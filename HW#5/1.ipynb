{
 "cells": [
  {
   "cell_type": "code",
   "execution_count": 3,
   "metadata": {},
   "outputs": [],
   "source": [
    "import pandas as pd\n",
    "import numpy as np"
   ]
  },
  {
   "cell_type": "code",
   "execution_count": 60,
   "metadata": {},
   "outputs": [],
   "source": [
    "X_train = pd.read_csv('TinyMNIST/trainData.csv', header = None)\n",
    "y_train = pd.read_csv('TinyMNIST/trainLabels.csv', header = None).values.flatten().astype(int)\n",
    "X_test = pd.read_csv('TinyMNIST/testData.csv', header = None)\n",
    "y_test = pd.read_csv('TinyMNIST/testLabels.csv', header = None).values.flatten().astype(int)"
   ]
  },
  {
   "cell_type": "code",
   "execution_count": 61,
   "metadata": {},
   "outputs": [],
   "source": [
    "X_train_cls = [X_train[y_train == i].values for i in range(10)]\n",
    "D = X_train.shape[1]"
   ]
  },
  {
   "cell_type": "code",
   "execution_count": 62,
   "metadata": {},
   "outputs": [],
   "source": [
    "cls_n = np.array(list(map(lambda x: len(x), X_train_cls)))\n",
    "priors = cls_n / np.sum(cls_n)"
   ]
  },
  {
   "cell_type": "code",
   "execution_count": null,
   "metadata": {},
   "outputs": [],
   "source": []
  },
  {
   "cell_type": "code",
   "execution_count": 63,
   "metadata": {},
   "outputs": [],
   "source": [
    "def rect_window(u):\n",
    "#     print(u)\n",
    "    return (np.abs(u) <= .5).all()\n",
    "\n",
    "def gaus_window(u):\n",
    "    return (2*np.pi)**(-1/2) * np.exp(-0.5 * ((u**2).sum()))"
   ]
  },
  {
   "cell_type": "code",
   "execution_count": 75,
   "metadata": {},
   "outputs": [],
   "source": [
    "def parzen(window, hn):\n",
    "    Vn_1 = 1/(hn)**D\n",
    "    predicts = []\n",
    "    correct_class_probs = []\n",
    "    for t in range(len(X_test)):\n",
    "        post_prob = []\n",
    "        for i in range(10):\n",
    "            u = (X_train_cls[i] - X_test.loc[t].values)/hn[i]\n",
    "            phi = np.sum(list(map(window, u)))\n",
    "            post_prob.append((1/cls_n[i]) * Vn_1[i] * phi)\n",
    "        post_prob = np.array(post_prob)\n",
    "        if post_prob.max():\n",
    "            post_prob = post_prob / (post_prob.max())\n",
    "        predicts.append(np.argmax(post_prob))\n",
    "        correct_class_probs.append(post_prob[y_test[t]])\n",
    "    return predicts, correct_class_probs\n",
    "    "
   ]
  },
  {
   "cell_type": "code",
   "execution_count": 76,
   "metadata": {},
   "outputs": [
    {
     "name": "stdout",
     "output_type": "stream",
     "text": [
      "Unit: 0.7 Error rate: 0.9224 CCR: 0.1652\n",
      "Unit: 1 Error rate: 0.8204 CCR: 0.2592\n",
      "Unit: 1.5 Error rate: 0.27076426858635927 CCR: 0.7144\n"
     ]
    }
   ],
   "source": [
    "units = [0.7, 1, 1.5]\n",
    "for unit in units:\n",
    "    Vn_1 = 1 / unit**D\n",
    "    predicts, correct_class_probs = parzen(rect_window, np.ones(10)*unit)\n",
    "    print('Unit:', unit, end=' ')\n",
    "    print(\"Error rate:\", 1 - np.mean(correct_class_probs), end=' ')\n",
    "    print(\"CCR:\", (predicts == y_test).mean())"
   ]
  },
  {
   "cell_type": "code",
   "execution_count": 77,
   "metadata": {},
   "outputs": [
    {
     "name": "stdout",
     "output_type": "stream",
     "text": [
      "Unit: 1.5 Error rate: 0.6567999943869036 CCR: 0.4124\n",
      "Unit: 1.5 Error rate: 0.08127482973383737 CCR: 0.918\n",
      "Unit: 1.5 Error rate: 0.07401358700554661 CCR: 0.9232\n"
     ]
    }
   ],
   "source": [
    "for h1 in [1, 2, 3]:\n",
    "    hn = h1 / cls_n**.5\n",
    "    predicts, correct_class_probs = parzen(gaus_window, hn)\n",
    "    print('Unit:', h1, end=' ')\n",
    "    print(\"Error rate:\", 1 - np.mean(correct_class_probs), end=' ')\n",
    "    print(\"CCR:\", (predicts == y_test).mean())"
   ]
  },
  {
   "cell_type": "code",
   "execution_count": null,
   "metadata": {},
   "outputs": [],
   "source": []
  },
  {
   "cell_type": "code",
   "execution_count": null,
   "metadata": {},
   "outputs": [],
   "source": []
  },
  {
   "cell_type": "code",
   "execution_count": null,
   "metadata": {},
   "outputs": [],
   "source": []
  },
  {
   "cell_type": "code",
   "execution_count": null,
   "metadata": {},
   "outputs": [],
   "source": []
  }
 ],
 "metadata": {
  "kernelspec": {
   "display_name": "Python 3",
   "language": "python",
   "name": "python3"
  },
  "language_info": {
   "codemirror_mode": {
    "name": "ipython",
    "version": 3
   },
   "file_extension": ".py",
   "mimetype": "text/x-python",
   "name": "python",
   "nbconvert_exporter": "python",
   "pygments_lexer": "ipython3",
   "version": "3.7.6"
  }
 },
 "nbformat": 4,
 "nbformat_minor": 2
}
