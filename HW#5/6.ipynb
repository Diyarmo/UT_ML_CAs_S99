{
 "cells": [
  {
   "cell_type": "code",
   "execution_count": 1,
   "metadata": {},
   "outputs": [],
   "source": [
    "import pandas as pd\n",
    "import numpy as np\n",
    "from sklearn.naive_bayes import MultinomialNB, BernoulliNB, ComplementNB, ClassifierMixin\n",
    "import matplotlib.pyplot as plt"
   ]
  },
  {
   "cell_type": "code",
   "execution_count": 2,
   "metadata": {},
   "outputs": [],
   "source": [
    "\n",
    "X_train = pd.read_csv('TinyMNIST/trainData.csv', header = None)\n",
    "y_train = pd.read_csv('TinyMNIST/trainLabels.csv', header = None).values.flatten()\n",
    "X_test = pd.read_csv('TinyMNIST/testData.csv', header = None)\n",
    "y_test = pd.read_csv('TinyMNIST/testLabels.csv', header = None).values.flatten()"
   ]
  },
  {
   "cell_type": "code",
   "execution_count": 3,
   "metadata": {},
   "outputs": [],
   "source": [
    "def FS(best_cols, select_history):\n",
    "    best_cols = list(best_cols)\n",
    "    remaining_cols = [col for col in X_train.columns if col not in best_cols]\n",
    "    results = []\n",
    "    for col in remaining_cols:\n",
    "        new_cols = best_cols + [col]\n",
    "        clf = MultinomialNB()\n",
    "        clf = clf.fit(X_train[new_cols], y_train)\n",
    "        results.append(clf.score(X_test[new_cols], y_test))\n",
    "    best_idx = np.argmax(results)\n",
    "    best_score = np.max(results)\n",
    "    best_cols.append(remaining_cols[best_idx])\n",
    "    select_history.append(remaining_cols[best_idx])\n",
    "    \n",
    "    return best_cols, best_score, select_history\n"
   ]
  },
  {
   "cell_type": "code",
   "execution_count": 8,
   "metadata": {},
   "outputs": [],
   "source": [
    "def SBE(best_cols, blocked):\n",
    "    best_cols = pd.Index(best_cols)\n",
    "    final_results = []\n",
    "    cols_history = []\n",
    "    \n",
    "    \n",
    "    clf = MultinomialNB()\n",
    "    clf = clf.fit(X_train[best_cols], y_train)\n",
    "    final_results.append(clf.score(X_test[best_cols], y_test))\n",
    "    cols_history.append(best_cols)\n",
    "\n",
    "    for i in range(1, len(best_cols)):\n",
    "        results = []\n",
    "        for col in best_cols:\n",
    "            if col == blocked:\n",
    "                continue\n",
    "            new_cols = best_cols.drop(col)\n",
    "            clf = MultinomialNB()\n",
    "            clf = clf.fit(X_train[new_cols], y_train)\n",
    "            results.append(clf.score(X_test[new_cols], y_test))\n",
    "        best_idx = np.argmax(results)\n",
    "        best_cols = best_cols.drop(best_cols[best_idx])\n",
    "        cols_history.append(best_cols)\n",
    "        final_results.append(results[best_idx])\n",
    "    best_idx = np.argmax(final_results)\n",
    "    best_score = np.max(final_results)\n",
    "    best_cols = cols_history[best_idx]    \n",
    "    return best_cols, best_score\n"
   ]
  },
  {
   "cell_type": "code",
   "execution_count": 5,
   "metadata": {},
   "outputs": [],
   "source": [
    "def all_same(items):\n",
    "    return all(x == items[0] for x in items)"
   ]
  },
  {
   "cell_type": "code",
   "execution_count": 13,
   "metadata": {},
   "outputs": [],
   "source": [
    "def SFFS():\n",
    "    best_cols = []\n",
    "    select_history = []\n",
    "    fs_score_h = []\n",
    "    sbe_score_h = []\n",
    "\n",
    "    for i in range(196):\n",
    "        best_cols, fs_best_score, select_history = FS(best_cols, select_history)\n",
    "        fs_score_h.append(fs_best_score)\n",
    "        print(len(best_cols), fs_best_score, end = ' - ')\n",
    "\n",
    "\n",
    "        if (len(select_history) > 2) and (select_history[-1] == select_history[-2]):\n",
    "            blocked = select_history[-1]\n",
    "            print(select_history[-1], \"was blocked!\", end = ' ')\n",
    "        else:\n",
    "            blocked = -1\n",
    "\n",
    "        best_cols, sbe_best_score = SBE(best_cols, blocked)\n",
    "        sbe_score_h.append(sbe_best_score)\n",
    "        print(len(best_cols), sbe_best_score)\n",
    "\n",
    "        if (len(fs_score_h) > 10) and all_same(fs_score_h[-10:]):\n",
    "            print(\"Same fs scores for 10 last iterations.\")\n",
    "            break\n",
    "\n",
    "        if (len(sbe_score_h) > 10) and all_same(sbe_score_h[-10:]):\n",
    "            print(\"Same sbe scores for 10 last iterations.\")\n",
    "            break\n",
    "    return best_cols, sbe_score_h, fs_score_h"
   ]
  },
  {
   "cell_type": "code",
   "execution_count": null,
   "metadata": {
    "scrolled": false
   },
   "outputs": [],
   "source": [
    "%time best_cols, sbe_score_h, fs_score_h = SFFS()"
   ]
  },
  {
   "cell_type": "code",
   "execution_count": 9,
   "metadata": {},
   "outputs": [
    {
     "name": "stdout",
     "output_type": "stream",
     "text": [
      "Best Score: 0.8172\n",
      "Best Indexes:\n",
      "Int64Index([121,  74, 119,  63, 131, 104,  90,  79, 102,  48,  33,  54, 109,\n",
      "             75,  49,  36, 106,  58,  18,  52,  78, 145, 138, 173, 142, 161,\n",
      "             25, 150, 177,  22, 113,  24,  44, 179, 192,  92, 100,  77,  89,\n",
      "            191,  96, 147, 172,  39,  20,  55, 171,  85,   0,   1,   2,   3],\n",
      "           dtype='int64')\n"
     ]
    },
    {
     "data": {
      "text/plain": [
       "[<matplotlib.lines.Line2D at 0x7f6f041cc210>]"
      ]
     },
     "execution_count": 9,
     "metadata": {},
     "output_type": "execute_result"
    },
    {
     "data": {
      "image/png": "[encoded data removed]",
      "text/plain": [
       "<Figure size 432x288 with 1 Axes>"
      ]
     },
     "metadata": {
      "needs_background": "light"
     },
     "output_type": "display_data"
    }
   ],
   "source": [
    "print(\"Best Score:\", sbe_best_score)\n",
    "print(\"Best Indexes:\")\n",
    "print(best_cols)\n",
    "plt.plot(sbe_score_h[-1], '.')\n"
   ]
  },
  {
   "cell_type": "code",
   "execution_count": null,
   "metadata": {},
   "outputs": [],
   "source": []
  },
  {
   "cell_type": "code",
   "execution_count": null,
   "metadata": {},
   "outputs": [],
   "source": []
  },
  {
   "cell_type": "code",
   "execution_count": null,
   "metadata": {},
   "outputs": [],
   "source": []
  }
 ],
 "metadata": {
  "kernelspec": {
   "display_name": "Python 3",
   "language": "python",
   "name": "python3"
  },
  "language_info": {
   "codemirror_mode": {
    "name": "ipython",
    "version": 3
   },
   "file_extension": ".py",
   "mimetype": "text/x-python",
   "name": "python",
   "nbconvert_exporter": "python",
   "pygments_lexer": "ipython3",
   "version": "3.8.10"
  }
 },
 "nbformat": 4,
 "nbformat_minor": 2
}
