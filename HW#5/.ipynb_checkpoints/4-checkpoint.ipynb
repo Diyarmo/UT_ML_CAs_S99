{
 "cells": [
  {
   "cell_type": "code",
   "execution_count": 1,
   "metadata": {},
   "outputs": [],
   "source": [
    "import pandas as pd\n",
    "import numpy as np\n",
    "from scipy.stats import mode"
   ]
  },
  {
   "cell_type": "code",
   "execution_count": 18,
   "metadata": {},
   "outputs": [],
   "source": [
    "X_train = pd.read_csv('TinyMNIST/trainData.csv', header = None)\n",
    "y_train = pd.read_csv('TinyMNIST/trainLabels.csv', header = None).values\n",
    "X_test = pd.read_csv('TinyMNIST/testData.csv', header = None).values\n",
    "y_test = pd.read_csv('TinyMNIST/testLabels.csv', header = None).values"
   ]
  },
  {
   "cell_type": "markdown",
   "metadata": {},
   "source": [
    "According to slides, a reasonable estimate for posterior probability is\n",
    "\n",
    "$P_n(w_i|x) = \\frac{k_i}{k}$\n",
    "\n",
    "So there's no need to estimate probabilties and we can predict by majority voting in K-neighbors."
   ]
  },
  {
   "cell_type": "code",
   "execution_count": null,
   "metadata": {},
   "outputs": [],
   "source": []
  },
  {
   "cell_type": "code",
   "execution_count": 15,
   "metadata": {},
   "outputs": [],
   "source": [
    "\n",
    "def KNN_nomral_predict(X_test, X_train, k=5, d=0):\n",
    "    predicts = []\n",
    "    probs = []\n",
    "    for i, x in enumerate(X_test):\n",
    "        points = get_points_idx(kd_tree, X_train, x, d)\n",
    "        kn_idx = np.argsort(np.sum((X_train[points] - x)**2, axis=1))[:k]\n",
    "        probs.append(y_train[kn_idx] == y_test[i].mean())\n",
    "        predicts.append(mode(y_train[kn_idx]).mode[0])\n",
    "    return predicts, probs"
   ]
  },
  {
   "cell_type": "code",
   "execution_count": 16,
   "metadata": {},
   "outputs": [],
   "source": [
    "dim = 196\n",
    "def make_kd_tree(points, i=0):\n",
    "    if len(points) >= 10:\n",
    "        while points[i].var() == 0:\n",
    "            i = (i + 1) % dim\n",
    "        points = points.sort_values(by = i)\n",
    "        half = len(points) // 2\n",
    "        new_i = (i+1)%dim\n",
    "        return [\n",
    "            make_kd_tree(points[: half].reset_index(drop=True), new_i),\n",
    "            make_kd_tree(points[half + 1:].reset_index(drop=True), new_i),\n",
    "            points[i][half],\n",
    "            i,\n",
    "            list(points['index'])\n",
    "        ]\n",
    "    else:\n",
    "        return [None, None, points[i][0], i, list(points['index'])]\n",
    "def get_points_idx(node, X_train, x, d):\n",
    "    for d in range(d):\n",
    "        if not node[0]:\n",
    "            break\n",
    "        i = node[3]\n",
    "        pivot = node[2]\n",
    "        if x[i] > pivot:\n",
    "            node = node[1]\n",
    "        else:\n",
    "            node = node[0]\n",
    "    \n",
    "    return node[4]"
   ]
  },
  {
   "cell_type": "code",
   "execution_count": 21,
   "metadata": {},
   "outputs": [
    {
     "name": "stdout",
     "output_type": "stream",
     "text": [
      "D: 0 CCR: 0.1064 Error rate: 0.8936\n",
      "time: 13.9174222946167\n",
      "D: 1 CCR: 0.1024 Error rate: 0.8976\n",
      "time: 6.694664001464844\n",
      "D: 2 CCR: 0.0884 Error rate: 0.9116\n",
      "time: 2.818631887435913\n",
      "D: 3 CCR: 0.1568 Error rate: 0.8432\n",
      "time: 1.3450729846954346\n",
      "D: 4 CCR: 0.098 Error rate: 0.902\n",
      "time: 0.9241905212402344\n",
      "D: 5 CCR: 0.1044 Error rate: 0.8956\n",
      "time: 0.7720091342926025\n",
      "D: 6 CCR: 0.086 Error rate: 0.914\n",
      "time: 0.6769630908966064\n",
      "D: 7 CCR: 0.074 Error rate: 0.926\n",
      "time: 0.6161766052246094\n",
      "D: 8 CCR: 0.0736 Error rate: 0.9264\n",
      "time: 0.6139168739318848\n",
      "D: 9 CCR: 0.1196 Error rate: 0.8804\n",
      "time: 0.557265043258667\n"
     ]
    }
   ],
   "source": [
    "from time import time\n",
    "kd_tree = make_kd_tree(X_train.reset_index().copy())\n",
    "for d in range(10):\n",
    "    t = time()\n",
    "    predicts, probs = KNN_nomral_predict(X_test, X_train.values, 1, d)\n",
    "    print('D:', d, end=' ')\n",
    "    print('CCR:', (predicts == y_test).mean(), end=' ')\n",
    "    print('Error rate:', 1 - np.mean(probs))\n",
    "    print('time:',time() - t)"
   ]
  },
  {
   "cell_type": "code",
   "execution_count": null,
   "metadata": {},
   "outputs": [],
   "source": []
  },
  {
   "cell_type": "code",
   "execution_count": null,
   "metadata": {},
   "outputs": [],
   "source": []
  },
  {
   "cell_type": "code",
   "execution_count": null,
   "metadata": {},
   "outputs": [],
   "source": []
  },
  {
   "cell_type": "code",
   "execution_count": null,
   "metadata": {},
   "outputs": [],
   "source": []
  },
  {
   "cell_type": "code",
   "execution_count": null,
   "metadata": {},
   "outputs": [],
   "source": []
  },
  {
   "cell_type": "code",
   "execution_count": 61,
   "metadata": {},
   "outputs": [],
   "source": []
  },
  {
   "cell_type": "code",
   "execution_count": null,
   "metadata": {},
   "outputs": [],
   "source": []
  },
  {
   "cell_type": "code",
   "execution_count": null,
   "metadata": {},
   "outputs": [],
   "source": []
  }
 ],
 "metadata": {
  "kernelspec": {
   "display_name": "Python 3",
   "language": "python",
   "name": "python3"
  },
  "language_info": {
   "codemirror_mode": {
    "name": "ipython",
    "version": 3
   },
   "file_extension": ".py",
   "mimetype": "text/x-python",
   "name": "python",
   "nbconvert_exporter": "python",
   "pygments_lexer": "ipython3",
   "version": "3.8.10"
  }
 },
 "nbformat": 4,
 "nbformat_minor": 2
}
