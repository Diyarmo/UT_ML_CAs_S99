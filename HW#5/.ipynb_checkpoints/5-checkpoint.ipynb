{
 "cells": [
  {
   "cell_type": "code",
   "execution_count": 3,
   "metadata": {},
   "outputs": [],
   "source": [
    "import pandas as pd\n",
    "import numpy as np\n",
    "from sklearn.naive_bayes import MultinomialNB, BernoulliNB, ComplementNB, ClassifierMixin\n",
    "import matplotlib.pyplot as plt"
   ]
  },
  {
   "cell_type": "code",
   "execution_count": 4,
   "metadata": {},
   "outputs": [],
   "source": [
    "X_train = pd.read_csv('TinyMNIST/trainData.csv', header = None)\n",
    "y_train = pd.read_csv('TinyMNIST/trainLabels.csv', header = None).values.flatten()\n",
    "X_test = pd.read_csv('TinyMNIST/testData.csv', header = None)\n",
    "y_test = pd.read_csv('TinyMNIST/testLabels.csv', header = None).values.flatten()"
   ]
  },
  {
   "cell_type": "code",
   "execution_count": 6,
   "metadata": {},
   "outputs": [
    {
     "name": "stdout",
     "output_type": "stream",
     "text": [
      "MultinomialNB Score: 0.7684\n"
     ]
    }
   ],
   "source": [
    "clf = MultinomialNB()\n",
    "clf = clf.fit(X_train, y_train)\n",
    "print(\"MultinomialNB Score:\",clf.score(X_test, y_test))"
   ]
  },
  {
   "cell_type": "code",
   "execution_count": null,
   "metadata": {},
   "outputs": [],
   "source": []
  },
  {
   "cell_type": "code",
   "execution_count": null,
   "metadata": {},
   "outputs": [],
   "source": []
  },
  {
   "cell_type": "code",
   "execution_count": 121,
   "metadata": {},
   "outputs": [
    {
     "name": "stdout",
     "output_type": "stream",
     "text": [
      "CPU times: user 28.6 s, sys: 21.4 s, total: 49.9 s\n",
      "Wall time: 6.69 s\n"
     ]
    }
   ],
   "source": [
    "def NaiveS():\n",
    "    results = []\n",
    "    for col in X_train.columns:\n",
    "        clf = MultinomialNB()\n",
    "        clf = clf.fit(X_train.drop(col, axis=1), y_train)\n",
    "        results.append(clf.score(X_test.drop(col, axis=1), y_test))\n",
    "        \n",
    "    final_results = []\n",
    "    cols_history = []\n",
    "    for d in range(1, 196):\n",
    "        clf = MultinomialNB()\n",
    "        clf = clf.fit(X_train[np.argsort(results)[:d]], y_train)\n",
    "        final_results.append(clf.score(X_test[np.argsort(results)[:d]], y_test))\n",
    "        cols_history.append(np.argsort(results)[:d])\n",
    "    return final_results, cols_history\n",
    "\n",
    "%time final_results, cols_history = NaiveS()"
   ]
  },
  {
   "cell_type": "code",
   "execution_count": 122,
   "metadata": {},
   "outputs": [
    {
     "name": "stdout",
     "output_type": "stream",
     "text": [
      "Best Score: 0.7992\n",
      "Best Indexes:\n",
      "[ 75 131  89  62  63  61  90  74  49 145  37 106  88  78  77  47 174  76\n",
      "  45  33 173 132  92 157  48 117  44 102  93  31  79 166 118  60  72  91\n",
      "  38 104  68  34 156  71 133  50 110  58 103 144  36  24   0 194  96  94\n",
      "  99  98 120 112 193 190 185 184 183 182 181 180 169 168 167 163 111 155\n",
      " 153 152 141 140 139 134 127 126 125 124  87 116 154  86  97  84  41  39\n",
      "  30  29  28  27  26  85  19  18  17  16  15  14  13  12  11  10   9   8\n",
      "   7   6   5   4   3   2   1  42  43  25  56  82  70  59  57  46 195 179\n",
      " 113  83 192 191 130  55 164  69  20 175 138 170 162 165  40 172  81 186\n",
      " 187 189 171 148  51  23  32 149 177 178  64  73 135  53  95  52 188 147\n",
      " 119  65  54 100 109 151 105]\n"
     ]
    },
    {
     "data": {
      "text/plain": [
       "[<matplotlib.lines.Line2D at 0x7f82a2876f90>]"
      ]
     },
     "execution_count": 122,
     "metadata": {},
     "output_type": "execute_result"
    },
    {
     "data": {
      "image/png": "[encoded data removed]",
      "text/plain": [
       "<Figure size 432x288 with 1 Axes>"
      ]
     },
     "metadata": {
      "needs_background": "light"
     },
     "output_type": "display_data"
    }
   ],
   "source": [
    "best_idx = np.argmax(final_results)\n",
    "print(\"Best Score:\", final_results[best_idx])\n",
    "print(\"Best Indexes:\")\n",
    "print(cols_history[best_idx])\n",
    "plt.plot(final_results, '.')\n"
   ]
  },
  {
   "cell_type": "code",
   "execution_count": 64,
   "metadata": {},
   "outputs": [],
   "source": [
    "#B"
   ]
  },
  {
   "cell_type": "code",
   "execution_count": 74,
   "metadata": {},
   "outputs": [],
   "source": []
  },
  {
   "cell_type": "code",
   "execution_count": 112,
   "metadata": {
    "scrolled": true
   },
   "outputs": [
    {
     "name": "stdout",
     "output_type": "stream",
     "text": [
      "CPU times: user 15min 33s, sys: 12min 20s, total: 27min 54s\n",
      "Wall time: 3min 39s\n"
     ]
    }
   ],
   "source": [
    "def SFS():\n",
    "    best_cols = []\n",
    "    remaining_cols = list(X_train.columns)\n",
    "    final_results = []\n",
    "    cols_history = []\n",
    "    for i in range(196):\n",
    "        results = []\n",
    "        for col in remaining_cols:\n",
    "            new_cols = best_cols + [col]\n",
    "            clf = MultinomialNB()\n",
    "            clf = clf.fit(X_train[new_cols], y_train)\n",
    "            results.append(clf.score(X_test[new_cols], y_test))\n",
    "        best_idx = np.argmax(results)\n",
    "        best_cols.append(remaining_cols[best_idx])\n",
    "        del remaining_cols[best_idx]\n",
    "        cols_history.append(best_cols)\n",
    "        final_results.append(results[best_idx])\n",
    "    #     print(i+1, ')',best_idx, results[best_idx])\n",
    "    return final_results, cols_history\n",
    "%time final_results, cols_history = SFS()"
   ]
  },
  {
   "cell_type": "code",
   "execution_count": 113,
   "metadata": {},
   "outputs": [
    {
     "name": "stdout",
     "output_type": "stream",
     "text": [
      "Best Score: 0.8152\n",
      "Best Indexes:\n",
      "[0, 121, 74, 119, 63, 144, 131, 104, 90, 79, 102, 48, 33, 54, 109, 75, 49, 36, 106, 160, 58, 18, 52, 78, 23, 145, 138, 91, 171, 69, 24, 125, 25, 97, 179, 178, 152, 164, 96, 172, 44, 19, 21, 124, 141, 166, 1, 2, 3, 4, 41, 193, 180, 5, 6, 8, 10, 11, 12, 7, 13, 14, 55, 29, 9, 15, 16, 17, 26, 83, 113, 27, 99, 28, 42, 43, 57, 56, 70, 84, 98, 111, 112, 126, 140, 185, 153, 154, 167, 85, 155, 139, 168, 169, 181, 186, 147, 82, 86, 182, 183, 184, 194, 170, 195, 30, 161, 190, 191, 165, 31, 89, 92, 148, 93, 60, 127, 51, 136, 61, 71, 110, 77, 189, 149, 95, 156, 192, 39, 177, 72, 40, 100, 68, 94, 62, 157, 151, 188, 187, 120, 45, 117, 88, 20, 173, 35, 142, 163, 65, 22, 114, 38, 103, 47, 59, 123, 105, 134, 150, 116, 128, 73, 37, 50, 118, 81, 174, 132, 32, 87, 76, 67, 133, 64, 107, 34, 46, 135, 143, 162, 80, 158, 122, 137, 101, 175, 130, 53, 146, 108, 176, 66, 159, 129, 115]\n"
     ]
    },
    {
     "data": {
      "text/plain": [
       "[<matplotlib.lines.Line2D at 0x7f829898b490>]"
      ]
     },
     "execution_count": 113,
     "metadata": {},
     "output_type": "execute_result"
    },
    {
     "data": {
      "image/png": "[encoded data removed]",
      "text/plain": [
       "<Figure size 432x288 with 1 Axes>"
      ]
     },
     "metadata": {
      "needs_background": "light"
     },
     "output_type": "display_data"
    }
   ],
   "source": [
    "best_idx = np.argmax(final_results)\n",
    "print(\"Best Score:\", final_results[best_idx])\n",
    "print(\"Best Indexes:\")\n",
    "print(cols_history[best_idx])\n",
    "plt.plot(final_results, '.')\n"
   ]
  },
  {
   "cell_type": "code",
   "execution_count": 114,
   "metadata": {},
   "outputs": [],
   "source": [
    "#C"
   ]
  },
  {
   "cell_type": "code",
   "execution_count": 115,
   "metadata": {},
   "outputs": [
    {
     "name": "stdout",
     "output_type": "stream",
     "text": [
      "CPU times: user 22min 3s, sys: 16min 54s, total: 38min 57s\n",
      "Wall time: 4min 57s\n"
     ]
    }
   ],
   "source": [
    "def SBE():\n",
    "    best_cols = X_train.columns\n",
    "    # remaining_cols = list(X_train.columns)\n",
    "    final_results = []\n",
    "    cols_history = []\n",
    "    for i in range(195):\n",
    "        results = []\n",
    "        for col in best_cols:\n",
    "            new_cols = best_cols.drop(col)\n",
    "            clf = MultinomialNB()\n",
    "            clf = clf.fit(X_train[new_cols], y_train)\n",
    "            results.append(clf.score(X_test[new_cols], y_test))\n",
    "        best_idx = np.argmax(results)\n",
    "        best_cols = best_cols.drop(best_cols[best_idx])\n",
    "        cols_history.append(best_cols)\n",
    "        final_results.append(results[best_idx])\n",
    "#         print(i+1, ')', best_idx, results[best_idx])\n",
    "    return final_results, cols_history\n",
    "%time final_results, cols_history = SBE()"
   ]
  },
  {
   "cell_type": "code",
   "execution_count": 116,
   "metadata": {},
   "outputs": [
    {
     "name": "stdout",
     "output_type": "stream",
     "text": [
      "Best Score: 0.8148\n",
      "Best Indexes:\n",
      "Int64Index([ 19,  20,  23,  33,  35,  36,  37,  45,  46,  48,  49,  50,  52,\n",
      "             53,  58,  60,  61,  62,  63,  64,  65,  66,  68,  73,  74,  75,\n",
      "             76,  77,  78,  79,  87,  88,  89,  90,  91,  92,  93, 102, 103,\n",
      "            104, 105, 106, 107, 108, 109, 116, 118, 119, 120, 123, 130, 131,\n",
      "            132, 133, 134, 136, 138, 141, 142, 143, 145, 146, 147, 148, 149,\n",
      "            150, 151, 156, 157, 161, 162, 164, 166, 172, 173, 174, 178, 186,\n",
      "            189],\n",
      "           dtype='int64')\n"
     ]
    },
    {
     "data": {
      "text/plain": [
       "[<matplotlib.lines.Line2D at 0x7f82988d0c50>]"
      ]
     },
     "execution_count": 116,
     "metadata": {},
     "output_type": "execute_result"
    },
    {
     "data": {
      "image/png": "[encoded data removed]",
      "text/plain": [
       "<Figure size 432x288 with 1 Axes>"
      ]
     },
     "metadata": {
      "needs_background": "light"
     },
     "output_type": "display_data"
    }
   ],
   "source": [
    "best_idx = np.argmax(final_results)\n",
    "print(\"Best Score:\", final_results[best_idx])\n",
    "print(\"Best Indexes:\")\n",
    "print(cols_history[best_idx])\n",
    "plt.plot(final_results, '.')\n"
   ]
  },
  {
   "cell_type": "code",
   "execution_count": null,
   "metadata": {},
   "outputs": [],
   "source": []
  },
  {
   "cell_type": "code",
   "execution_count": 123,
   "metadata": {},
   "outputs": [],
   "source": [
    "#6"
   ]
  },
  {
   "cell_type": "markdown",
   "metadata": {},
   "source": [
    "با توجه به این نکته که در نایو سرچ یکبار متریکی برای تمام ستون‌ها به صورت جداگانه حساب می‌شود و سپس براساس آن ستون‌ها به ترتیب اسکوری که گرفته اند اضافه میشوند، پس نایو سرچ بیشترین شباهت را به پی سی ای دارد.\n",
    "\n",
    "برای تغییر نایو سرچ به پی سی ای، باید ابتدا\n",
    "principal components \n",
    "را حساب کنیم، و سپس متریک خود را اندازه‌ی مقادیر ویژه قرار دهیم."
   ]
  },
  {
   "cell_type": "code",
   "execution_count": null,
   "metadata": {},
   "outputs": [],
   "source": []
  }
 ],
 "metadata": {
  "kernelspec": {
   "display_name": "Python 3",
   "language": "python",
   "name": "python3"
  },
  "language_info": {
   "codemirror_mode": {
    "name": "ipython",
    "version": 3
   },
   "file_extension": ".py",
   "mimetype": "text/x-python",
   "name": "python",
   "nbconvert_exporter": "python",
   "pygments_lexer": "ipython3",
   "version": "3.8.10"
  }
 },
 "nbformat": 4,
 "nbformat_minor": 2
}
