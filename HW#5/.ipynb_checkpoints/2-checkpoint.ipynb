{
 "cells": [
  {
   "cell_type": "code",
   "execution_count": 3,
   "metadata": {},
   "outputs": [],
   "source": [
    "import pandas as pd\n",
    "import numpy as np\n",
    "from scipy.stats import mode"
   ]
  },
  {
   "cell_type": "code",
   "execution_count": 4,
   "metadata": {},
   "outputs": [],
   "source": [
    "X_train = pd.read_csv('TinyMNIST/trainData.csv', header = None).values\n",
    "y_train = pd.read_csv('TinyMNIST/trainLabels.csv', header = None).values\n",
    "X_test = pd.read_csv('TinyMNIST/testData.csv', header = None).values\n",
    "y_test = pd.read_csv('TinyMNIST/testLabels.csv', header = None).values"
   ]
  },
  {
   "cell_type": "markdown",
   "metadata": {},
   "source": [
    "According to slides, a reasonable estimate for posterior probability is\n",
    "\n",
    "$P_n(w_i|x) = \\frac{k_i}{k}$\n",
    "\n",
    "So there's no need to estimate probabilties and we can predict by majority voting in K-neighbors."
   ]
  },
  {
   "cell_type": "code",
   "execution_count": 24,
   "metadata": {},
   "outputs": [],
   "source": [
    "\n",
    "def KNN_nomral_predict(X_test, X_train, k=5):\n",
    "    predicts = []\n",
    "    probs = []\n",
    "    for i, x in enumerate(X_test):\n",
    "        kn_idx = np.argsort(np.sum((X_train - x)**2, axis=1))[:k]\n",
    "        probs.append(y_train[kn_idx] == y_test[i].mean())\n",
    "        predicts.append(mode(y_train[kn_idx]).mode[0])\n",
    "    return predicts, probs"
   ]
  },
  {
   "cell_type": "code",
   "execution_count": null,
   "metadata": {},
   "outputs": [],
   "source": []
  },
  {
   "cell_type": "code",
   "execution_count": 32,
   "metadata": {},
   "outputs": [
    {
     "name": "stdout",
     "output_type": "stream",
     "text": [
      "K: 1 CCR: 0.9184 Error rate: 0.0816\n",
      "K: 2 CCR: 0.9004 Error rate: 0.0978\n",
      "K: 5 CCR: 0.9084 Error rate: 0.12824000000000002\n",
      "K: 10 CCR: 0.9012 Error rate: 0.15603999999999996\n",
      "K: 50 CCR: 0.8584 Error rate: 0.27656000000000003\n",
      "K: 100 CCR: 0.828 Error rate: 0.35682400000000003\n",
      "K: 5000 CCR: 0.1148 Error rate: 0.8997868\n"
     ]
    }
   ],
   "source": [
    "for k in [1,2,5,10,50,100,len(X_train)]:\n",
    "    predicts, probs = KNN_nomral_predict(X_test, X_train, k)\n",
    "    print('K:', k, end=' ')\n",
    "    print('CCR:', (predicts == y_test).mean(), end=' ')\n",
    "    print('Error rate:', 1 - np.mean(probs))"
   ]
  },
  {
   "cell_type": "code",
   "execution_count": null,
   "metadata": {},
   "outputs": [],
   "source": []
  },
  {
   "cell_type": "code",
   "execution_count": null,
   "metadata": {},
   "outputs": [],
   "source": []
  },
  {
   "cell_type": "code",
   "execution_count": null,
   "metadata": {},
   "outputs": [],
   "source": []
  },
  {
   "cell_type": "code",
   "execution_count": null,
   "metadata": {},
   "outputs": [],
   "source": []
  },
  {
   "cell_type": "code",
   "execution_count": null,
   "metadata": {},
   "outputs": [],
   "source": []
  },
  {
   "cell_type": "code",
   "execution_count": 61,
   "metadata": {},
   "outputs": [],
   "source": []
  },
  {
   "cell_type": "code",
   "execution_count": null,
   "metadata": {},
   "outputs": [],
   "source": []
  },
  {
   "cell_type": "code",
   "execution_count": null,
   "metadata": {},
   "outputs": [],
   "source": []
  }
 ],
 "metadata": {
  "kernelspec": {
   "display_name": "Python 3",
   "language": "python",
   "name": "python3"
  },
  "language_info": {
   "codemirror_mode": {
    "name": "ipython",
    "version": 3
   },
   "file_extension": ".py",
   "mimetype": "text/x-python",
   "name": "python",
   "nbconvert_exporter": "python",
   "pygments_lexer": "ipython3",
   "version": "3.8.10"
  }
 },
 "nbformat": 4,
 "nbformat_minor": 2
}
