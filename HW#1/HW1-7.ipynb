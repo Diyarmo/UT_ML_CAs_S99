{
 "cells": [
  {
   "cell_type": "markdown",
   "metadata": {},
   "source": [
    "# Question 7"
   ]
  },
  {
   "cell_type": "markdown",
   "metadata": {},
   "source": [
    "Formula of Norm is:\n",
    "\n",
    "\n",
    "${d_{p}(x, y) = \\sqrt[p]{\\sum_{i=1} |x_{i} - y_{i}|^{p} }}$\n",
    "\n",
    "$d_{1}$ is simply sum of absolute of difference of features.\n",
    "It shows hom much difference all features have. but it treats all kinds of difference in a same way.\n",
    "\n",
    "In $d_{2}$ there is an emphasize on features with more difference (because square of differences are used)\n",
    "\n",
    "Mahalobis distance accounts for the correlation between variables. It is scale-invariant and unitless, meaning that it first normalizes the data and then calculates distance.\n",
    "\n"
   ]
  },
  {
   "cell_type": "markdown",
   "metadata": {},
   "source": [
    "$let \\ z_{i} = x_{i} - y_{i}$\n",
    "\n",
    "${d_{1}(x, y) = {\\sum_{i=1} |z_{i}| }}$\n",
    "\n",
    "${d_{1}^{2}(x, y) = {\\sum_{i=1} |z_{i}|^{2} + \\sum_{i,j, i≠j}2 |z_{i}| |z_{j}| }}$\n",
    "\n",
    "${d_{2}^{2}(x, y) = {{\\sum_{i=1} |z_{i}|^2 }}}$\n",
    "\n",
    "$d_{2}(x, y) ≤ d_{1}(x, y)$\n",
    "\n",
    "$d_{\\infty}(x, y) = max(|z_{i}|) _{i \\in \\{1, ..., n\\}}$\n",
    "\n",
    "$d_{2}(x, y)\\ is\\ sum\\ of\\ square\\ of\\ all\\ elements\\ including\\ the\\ max\\ element\\ ,\\ thus\\ it\\ is\\ equal\\ or\\ greater\\ than\\ d_{\\infty}(x, y)$\n",
    "\n",
    "$d_{\\infty}(x, y) ≤ d_{2}(x, y)$\n"
   ]
  },
  {
   "cell_type": "code",
   "execution_count": null,
   "metadata": {},
   "outputs": [],
   "source": []
  },
  {
   "cell_type": "code",
   "execution_count": null,
   "metadata": {},
   "outputs": [],
   "source": []
  }
 ],
 "metadata": {
  "kernelspec": {
   "display_name": "Python 3",
   "language": "python",
   "name": "python3"
  },
  "language_info": {
   "codemirror_mode": {
    "name": "ipython",
    "version": 3
   },
   "file_extension": ".py",
   "mimetype": "text/x-python",
   "name": "python",
   "nbconvert_exporter": "python",
   "pygments_lexer": "ipython3",
   "version": "3.7.4"
  }
 },
 "nbformat": 4,
 "nbformat_minor": 2
}
