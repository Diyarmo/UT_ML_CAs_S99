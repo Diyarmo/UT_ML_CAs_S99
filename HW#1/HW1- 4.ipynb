{
 "cells": [
  {
   "cell_type": "markdown",
   "metadata": {},
   "source": [
    "# Question 4"
   ]
  },
  {
   "cell_type": "markdown",
   "metadata": {},
   "source": [
    "## 1)"
   ]
  },
  {
   "cell_type": "markdown",
   "metadata": {},
   "source": [
    "${L(\\theta) = \\prod_{i=1}^{n}{\\theta}e^{-\\theta x_{i}}}$\n",
    "\n",
    "${LL(\\theta) = n ln{\\theta} - \\theta \\sum_{i = 1}^{n}{x_{i}}}$\n",
    "\n",
    "$\\frac{\\partial }{\\partial \\theta} {LL(\\theta)} = \\frac{n}{\\theta} - \\sum_{i = 1}^{n}{x_{i}} = 0$ \n",
    "\n",
    "$\\frac{\\partial }{\\partial \\theta} {LL(\\theta)} = \\frac{n}{\\theta} - \\sum_{i = 1}^{n}{x_{i}} = 0$ نه\n",
    "\n",
    "${\\theta}_{ML} = \\frac{n}{ \\sum_{i = 1}^{n} x_{i} } $"
   ]
  },
  {
   "cell_type": "markdown",
   "metadata": {},
   "source": [
    "## 2)"
   ]
  },
  {
   "cell_type": "markdown",
   "metadata": {},
   "source": [
    "$L(\\theta) = \\prod_{i=1}^{n} \\frac{x_{i}}{\\theta^2} e^{- \\frac{x_{k}^{2}}{2\\theta^{2}}}$\n",
    "\n",
    "${LL(\\theta) = \\sum_{i=1}^nln{x_{i}} -2nln\\theta - \\frac{1}{2\\theta^2} \\sum_{i = 1}^{n}{x_{i}^{2}}}$\n",
    "\n",
    "$\\frac{\\partial }{\\partial \\theta} {LL(\\theta)} = \\frac{-2n}{\\theta} + \\frac{2}{\\theta^3} \\sum_{i = 1}^{n}{x_{i}^{2}} = 0$ \n",
    "\n",
    "${\\theta}_{ML} = \\sqrt\\frac{\\sum_{i = 1}^{n} x_{i}^{2}}{n} $"
   ]
  },
  {
   "cell_type": "markdown",
   "metadata": {},
   "source": [
    "## 3)"
   ]
  },
  {
   "cell_type": "markdown",
   "metadata": {},
   "source": [
    "$L(\\theta) = \\prod_{i=1}^{n} \\sqrt \\theta x_{i}^{\\sqrt{\\theta} - 1}$\n",
    "\n",
    "${LL(\\theta) = \\frac{n}{2}ln\\theta - ({\\sqrt{\\theta} - 1})\\sum_{i = 1}^{n}{ln x_{i}}}$\n",
    "\n",
    "\n",
    "$\\frac{\\partial }{\\partial \\theta} {LL(\\theta)} = \\frac{n}{2\\theta} +\n",
    "\\frac{1}{2\\sqrt\\theta} \\sum_{i = 1}^{n}{ln x_{i}} = 0$ \n",
    "\n",
    "${\\theta}_{ML} = (\\frac{-n}{\\sum_{i = 1}^{n} ln x_{i}^{2}})^2 $"
   ]
  },
  {
   "cell_type": "markdown",
   "metadata": {},
   "source": [
    "## 4)"
   ]
  },
  {
   "cell_type": "markdown",
   "metadata": {},
   "source": [
    "${L(\\theta) = \\prod_{i=1}^{n}{\\theta^2}{x_{i}}e^{-\\theta x_{i}}}$\n",
    "\n",
    "${LL(\\theta) = {2n}ln\\theta + \\sum_{i = 1}^{n}{ln x_{i}} - \\theta \\sum_{i = 1}^{n}{x_{i}}}$\n",
    "\n",
    "\n",
    "$\\frac{\\partial }{\\partial \\theta} {LL(\\theta)} = \\frac{2n}{\\theta} -\n",
    "\\sum_{i = 1}^{n}{x_{i}} = 0$ \n",
    "\n",
    "${\\theta}_{ML} = \\frac{2n}{\\sum_{i = 1}^{n}{x_{i}}} $"
   ]
  }
 ],
 "metadata": {
  "kernelspec": {
   "display_name": "Python 3",
   "language": "python",
   "name": "python3"
  },
  "language_info": {
   "codemirror_mode": {
    "name": "ipython",
    "version": 3
   },
   "file_extension": ".py",
   "mimetype": "text/x-python",
   "name": "python",
   "nbconvert_exporter": "python",
   "pygments_lexer": "ipython3",
   "version": "3.7.4"
  }
 },
 "nbformat": 4,
 "nbformat_minor": 2
}
