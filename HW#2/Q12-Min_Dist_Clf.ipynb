{
 "cells": [
  {
   "cell_type": "code",
   "execution_count": 103,
   "metadata": {},
   "outputs": [],
   "source": [
    "import pandas as pd\n",
    "import numpy as np\n",
    "import cv2\n",
    "from os import listdir\n",
    "from copy import deepcopy\n",
    "import matplotlib.pyplot as plt\n",
    "from sklearn.metrics import roc_curve, roc_auc_score"
   ]
  },
  {
   "cell_type": "markdown",
   "metadata": {},
   "source": [
    "The classifier used is Gaussian Bayes Classifier, also to draw the ROC, I calculated probability of each class and avoid using discriminant function.\n",
    "\n",
    "Manchester is labeled as '1' and Chelsea as '0'.\n",
    "\n",
    "Mean of three color channels are calculated and used as features."
   ]
  },
  {
   "cell_type": "code",
   "execution_count": 113,
   "metadata": {},
   "outputs": [],
   "source": [
    "data = []\n",
    "labels = []\n",
    "for i, filename in enumerate(listdir(\"Q12_Dataset/\")):\n",
    "    c = cv2.imread(\"Q12_Dataset/\"+filename)\n",
    "    mean = c.reshape((-1,3)).mean(axis=0)\n",
    "    data.append(mean)\n",
    "    labels.append(int('m' in filename))\n"
   ]
  },
  {
   "cell_type": "code",
   "execution_count": 75,
   "metadata": {},
   "outputs": [],
   "source": [
    "def preprocess_data(data, labels, test_size=25):\n",
    "    train_data = deepcopy(data)\n",
    "    train_labels = deepcopy(labels)\n",
    "    test_data = []\n",
    "    test_label = []\n",
    "    for i in range(test_size):\n",
    "        j = np.random.randint(0, len(train_labels))\n",
    "        test_data.append(train_data.pop(j))\n",
    "        test_label.append(train_labels.pop(j))\n",
    "    test_data = np.array(test_data).reshape((test_size,-1))\n",
    "    train_data = np.array(train_data).reshape((len(train_labels),-1))\n",
    "    test_data = test_data \n",
    "    train_data = train_data\n",
    "    return train_data, test_data, np.array(train_labels), np.array(test_label)\n"
   ]
  },
  {
   "cell_type": "code",
   "execution_count": 114,
   "metadata": {},
   "outputs": [],
   "source": [
    "def predict(x, Sigma, means):\n",
    "    p = []\n",
    "    for i in range(2):\n",
    "        pi = 1/((2*np.pi)**(len(means[i])) * np.linalg.det(Sigma[i])) ** (1/2)\n",
    "        pi *= np.exp(-1/2*((x - means[i]).T @ np.linalg.inv(Sigma[i]) @ (x - means[i])))\n",
    "        p.append(pi)\n",
    "    p = np.array(p)/np.sum(p)\n",
    "    return p[1] #probabilty of being manchester"
   ]
  },
  {
   "cell_type": "code",
   "execution_count": 115,
   "metadata": {},
   "outputs": [],
   "source": [
    "def train(train_data, train_label):\n",
    "    means = []\n",
    "    Sigma = []\n",
    "    for i in range(2):\n",
    "        means.append(train_data[(train_label == i)].mean(axis=0))\n",
    "        Sigma.append(np.cov(train_data[(train_label == i)], rowvar=False))\n",
    "    Sigma = np.array(Sigma)\n",
    "    means = np.array(means)\n",
    "    return means, Sigma"
   ]
  },
  {
   "cell_type": "code",
   "execution_count": null,
   "metadata": {},
   "outputs": [],
   "source": []
  },
  {
   "cell_type": "code",
   "execution_count": 123,
   "metadata": {},
   "outputs": [
    {
     "name": "stdout",
     "output_type": "stream",
     "text": [
      "CCR is  0.8333333333333334\n",
      "Confusion Matrix:\n",
      "[[16.  2.]\n",
      " [ 3.  9.]]\n"
     ]
    }
   ],
   "source": [
    "train_data, test_data, train_label, test_label = preprocess_data(data, labels, 30)\n",
    "means, Sigma = train(train_data, train_label)\n",
    "\n",
    "confusion_matrix = np.zeros((2,2))\n",
    "predicted = []\n",
    "for i, x in enumerate(test_data):\n",
    "    predicted.append(predict(x, Sigma, means))\n",
    "    confusion_matrix[test_label[i]][int(np.round(predicted[-1]))] += 1\n",
    "predicted = np.array(predicted)\n",
    "print(\"CCR is \", (confusion_matrix.diagonal()).sum()/len(test_label))\n",
    "print(\"Confusion Matrix:\")\n",
    "print(confusion_matrix)"
   ]
  },
  {
   "cell_type": "code",
   "execution_count": null,
   "metadata": {},
   "outputs": [],
   "source": []
  },
  {
   "cell_type": "code",
   "execution_count": 124,
   "metadata": {},
   "outputs": [
    {
     "data": {
      "image/png": "[encoded data removed]",
      "text/plain": [
       "<Figure size 432x288 with 1 Axes>"
      ]
     },
     "metadata": {
      "needs_background": "light"
     },
     "output_type": "display_data"
    }
   ],
   "source": [
    "fpr, tpr, threshold = roc_curve(test_label, predicted, drop_intermediate=False)\n",
    "plt.plot(fpr, tpr, label=\"AUC= \"+str(roc_auc_score(test_label, predicted)))\n",
    "plt.title(\"ROC of Manchester\")\n",
    "plt.ylabel(\"TPR\")\n",
    "plt.xlabel(\"FNR\")\n",
    "plt.legend()\n",
    "plt.show()"
   ]
  },
  {
   "cell_type": "code",
   "execution_count": 125,
   "metadata": {},
   "outputs": [
    {
     "data": {
      "image/png": "[encoded data removed]",
      "text/plain": [
       "<Figure size 432x288 with 1 Axes>"
      ]
     },
     "metadata": {
      "needs_background": "light"
     },
     "output_type": "display_data"
    }
   ],
   "source": [
    "fpr, tpr, threshold = roc_curve(1-test_label, 1-predicted, drop_intermediate=False)\n",
    "plt.plot(fpr, tpr, label=\"AUC= \"+str(roc_auc_score(1-test_label, 1-predicted)))\n",
    "plt.title(\"ROC of Chelsea\")\n",
    "plt.ylabel(\"TPR\")\n",
    "plt.xlabel(\"FNR\")\n",
    "plt.legend()\n",
    "plt.show()"
   ]
  },
  {
   "cell_type": "code",
   "execution_count": null,
   "metadata": {},
   "outputs": [],
   "source": []
  },
  {
   "cell_type": "code",
   "execution_count": null,
   "metadata": {},
   "outputs": [],
   "source": []
  },
  {
   "cell_type": "code",
   "execution_count": null,
   "metadata": {},
   "outputs": [],
   "source": []
  },
  {
   "cell_type": "code",
   "execution_count": null,
   "metadata": {},
   "outputs": [],
   "source": []
  },
  {
   "cell_type": "code",
   "execution_count": null,
   "metadata": {},
   "outputs": [],
   "source": []
  },
  {
   "cell_type": "code",
   "execution_count": null,
   "metadata": {},
   "outputs": [],
   "source": []
  }
 ],
 "metadata": {
  "kernelspec": {
   "display_name": "Python 3",
   "language": "python",
   "name": "python3"
  },
  "language_info": {
   "codemirror_mode": {
    "name": "ipython",
    "version": 3
   },
   "file_extension": ".py",
   "mimetype": "text/x-python",
   "name": "python",
   "nbconvert_exporter": "python",
   "pygments_lexer": "ipython3",
   "version": "3.7.4"
  }
 },
 "nbformat": 4,
 "nbformat_minor": 2
}
