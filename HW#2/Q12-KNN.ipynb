{
 "cells": [
  {
   "cell_type": "code",
   "execution_count": 187,
   "metadata": {},
   "outputs": [],
   "source": [
    "import pandas as pd\n",
    "import numpy as np\n",
    "import cv2\n",
    "from os import listdir\n",
    "from copy import deepcopy\n",
    "import matplotlib.pyplot as plt\n",
    "from sklearn.metrics import roc_curve, roc_auc_score"
   ]
  },
  {
   "cell_type": "markdown",
   "metadata": {},
   "source": [
    "Each image is resized to 20x20 three-channel pixels and flatten aftewards.\n",
    "\n",
    "flatten data are used as features.\n",
    "\n",
    "KNN classifier is used and K = 1 seems to work properly.\n"
   ]
  },
  {
   "cell_type": "code",
   "execution_count": 173,
   "metadata": {},
   "outputs": [],
   "source": [
    "data = []\n",
    "labels = []\n",
    "for i, filename in enumerate(listdir(\"Q12_Dataset/\")):\n",
    "    c = cv2.imread(\"Q12_Dataset/\"+filename)\n",
    "    c = cv2.resize(c, (20, 20))\n",
    "    data.append(c)\n",
    "    labels.append(int('m' in filename))"
   ]
  },
  {
   "cell_type": "code",
   "execution_count": 174,
   "metadata": {},
   "outputs": [],
   "source": [
    "def calculate_dists(X, X_train):\n",
    "    X2 = (X**2).sum(axis=1).reshape((X.shape[0], 1)) * np.ones((1, X_train.shape[0]))\n",
    "    XT2 = (X_train**2).sum(axis=1) * np.ones((X.shape[0], 1))\n",
    "    XXT = X @ X_train.T\n",
    "    dists = np.sqrt(X2 + XT2 - 2*XXT)\n",
    "    return dists\n",
    "def KNN_predict(dists, k):\n",
    "    max_args = dists.argsort()[:, :k]\n",
    "    votes = pd.DataFrame(max_args).applymap(lambda x: train_label[x])\n",
    "    predict = votes.mode(axis=1)[0].values\n",
    "    return predict"
   ]
  },
  {
   "cell_type": "code",
   "execution_count": 202,
   "metadata": {},
   "outputs": [],
   "source": [
    "def preprocess_data(data, labels, test_size=25):\n",
    "    train_data = deepcopy(data)\n",
    "    train_label = deepcopy(labels)\n",
    "    test_data = []\n",
    "    test_label = []\n",
    "    for i in range(test_size):\n",
    "        j = np.random.randint(0, len(train_label))\n",
    "        test_data.append(train_data.pop(j))\n",
    "        test_label.append(train_label.pop(j))\n",
    "    test_data = np.array(test_data).reshape((test_size,-1))\n",
    "    train_data = np.array(train_data).reshape((len(train_label),-1))\n",
    "    test_data = test_data / 255\n",
    "    train_data = train_data / 255\n",
    "    return train_data, test_data, np.array(train_label), np.array(test_label)\n"
   ]
  },
  {
   "cell_type": "code",
   "execution_count": 203,
   "metadata": {},
   "outputs": [],
   "source": [
    "def get_confusion_matrix(predicted, test_label):\n",
    "    confusion_matrix = np.zeros((2, 2))\n",
    "    for i, p in enumerate(predicted):\n",
    "        confusion_matrix[test_label[i], int(p)] += 1\n",
    "    return confusion_matrix\n"
   ]
  },
  {
   "cell_type": "code",
   "execution_count": 241,
   "metadata": {},
   "outputs": [
    {
     "name": "stdout",
     "output_type": "stream",
     "text": [
      "CCR is  0.96\n",
      "Confusion Matrix:\n",
      "[[17.  0.]\n",
      " [ 1.  7.]]\n"
     ]
    },
    {
     "name": "stderr",
     "output_type": "stream",
     "text": [
      "/home/diyar/anaconda3/lib/python3.7/site-packages/ipykernel_launcher.py:5: RuntimeWarning: invalid value encountered in sqrt\n",
      "  \"\"\"\n"
     ]
    }
   ],
   "source": [
    "train_data, test_data, train_label, test_label = preprocess_data(data, labels, 25)\n",
    "dists = calculate_dists(test_data, train_data)\n",
    "predicted = KNN_predict(dists, 1)\n",
    "confusion_matrix = get_confusion_matrix(predicted, test_label)\n",
    "\n",
    "print(\"CCR is \", (confusion_matrix.diagonal()).sum()/len(test_label))\n",
    "print(\"Confusion Matrix:\")\n",
    "print(confusion_matrix)"
   ]
  },
  {
   "cell_type": "code",
   "execution_count": 242,
   "metadata": {},
   "outputs": [
    {
     "data": {
      "image/png": "[encoded data removed]",
      "text/plain": [
       "<Figure size 432x288 with 1 Axes>"
      ]
     },
     "metadata": {
      "needs_background": "light"
     },
     "output_type": "display_data"
    }
   ],
   "source": [
    "fpr, tpr, threshold = roc_curve(test_label, predicted, drop_intermediate=False)\n",
    "plt.plot(fpr, tpr, label=\"AUC= \"+str(roc_auc_score(test_label, predicted)))\n",
    "plt.title(\"ROC of Manchester\")\n",
    "plt.ylabel(\"TPR\")\n",
    "plt.xlabel(\"FNR\")\n",
    "plt.legend()\n",
    "plt.show()"
   ]
  },
  {
   "cell_type": "code",
   "execution_count": 243,
   "metadata": {},
   "outputs": [
    {
     "data": {
      "image/png": "[encoded data removed]",
      "text/plain": [
       "<Figure size 432x288 with 1 Axes>"
      ]
     },
     "metadata": {
      "needs_background": "light"
     },
     "output_type": "display_data"
    }
   ],
   "source": [
    "fpr, tpr, threshold = roc_curve(1-test_label, 1-predicted, drop_intermediate=False)\n",
    "plt.plot(fpr, tpr, label=\"AUC= \"+str(roc_auc_score(1-test_label, 1-predicted)))\n",
    "plt.title(\"ROC of Chelsea\")\n",
    "plt.ylabel(\"TPR\")\n",
    "plt.xlabel(\"FNR\")\n",
    "plt.legend()\n",
    "plt.show()"
   ]
  },
  {
   "cell_type": "code",
   "execution_count": null,
   "metadata": {},
   "outputs": [],
   "source": []
  },
  {
   "cell_type": "code",
   "execution_count": null,
   "metadata": {},
   "outputs": [],
   "source": []
  }
 ],
 "metadata": {
  "kernelspec": {
   "display_name": "Python 3",
   "language": "python",
   "name": "python3"
  },
  "language_info": {
   "codemirror_mode": {
    "name": "ipython",
    "version": 3
   },
   "file_extension": ".py",
   "mimetype": "text/x-python",
   "name": "python",
   "nbconvert_exporter": "python",
   "pygments_lexer": "ipython3",
   "version": "3.7.4"
  }
 },
 "nbformat": 4,
 "nbformat_minor": 2
}
