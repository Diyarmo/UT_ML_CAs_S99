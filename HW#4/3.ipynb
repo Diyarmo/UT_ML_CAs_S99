{
 "cells": [
  {
   "cell_type": "code",
   "execution_count": null,
   "metadata": {},
   "outputs": [],
   "source": []
  },
  {
   "cell_type": "code",
   "execution_count": 1,
   "metadata": {},
   "outputs": [],
   "source": [
    "class HMM:\n",
    "    def __init__(self, states, A, B, prior):\n",
    "        self.states = states\n",
    "        self.A = A\n",
    "        self.B = B\n",
    "        self.prior = prior\n",
    "    def forward(self, obs):\n",
    "        fwd = [{}]     \n",
    "        for y in self.states:\n",
    "            fwd[0][y] = self.prior[y] * self.B[y][obs[0]]\n",
    "        for t in range(1, len(obs)):\n",
    "            fwd.append({})     \n",
    "            for y in self.states:\n",
    "                fwd[t][y] = sum((fwd[t-1][y0] * self.A[y0][y] * self.B[y][obs[t]]) for y0 in self.states)\n",
    "        prob = sum((fwd[len(obs) - 1][s]) for s in self.states)\n",
    "        return prob"
   ]
  },
  {
   "cell_type": "code",
   "execution_count": 2,
   "metadata": {},
   "outputs": [],
   "source": [
    "states = ['H', 'S']\n",
    "\n",
    "A = {'H': {\n",
    "            'H': 0.6,\n",
    "            'S': 0.4\n",
    "          },\n",
    "     'S': {\n",
    "            'H': 0.1,\n",
    "            'S': 0.9\n",
    "          }\n",
    "    }\n",
    "\n",
    "B = {'H': {\n",
    "            'C': 0.2,\n",
    "            'S': 0.7,\n",
    "            'F': 0.1\n",
    "          },\n",
    "     'S': {\n",
    "            'C': 0.1,\n",
    "            'S': 0.1,\n",
    "            'F': 0.8\n",
    "          }\n",
    "    }\n",
    "\n",
    "obs = \"FFSCFCSCSCFF\"\n"
   ]
  },
  {
   "cell_type": "code",
   "execution_count": 4,
   "metadata": {},
   "outputs": [
    {
     "name": "stdout",
     "output_type": "stream",
     "text": [
      "Probability in first case('H': 0.9, 'S': 0.1): 8.193843858731098e-08\n"
     ]
    }
   ],
   "source": [
    "pi = {'H': 0.9,\n",
    "      'S': 0.1}\n",
    "st_model = HMM(states, A, B, pi)\n",
    "print(\"Probability in first case('H': 0.9, 'S': 0.1):\", st_model.forward(obs))"
   ]
  },
  {
   "cell_type": "code",
   "execution_count": 6,
   "metadata": {},
   "outputs": [
    {
     "name": "stdout",
     "output_type": "stream",
     "text": [
      "Probability in second case('H': 0.1, 'S': 0.9): 4.235969166578099e-07\n"
     ]
    }
   ],
   "source": [
    "pi = {'H': 0.1,\n",
    "      'S': 0.9}\n",
    "\n",
    "nd_model = HMM(states, A, B, pi)\n",
    "print(\"Probability in second case('H': 0.1, 'S': 0.9):\", nd_model.forward(obs))"
   ]
  },
  {
   "cell_type": "markdown",
   "metadata": {},
   "source": [
    "این که کدام مدل صحت بیشتری دارد بستگی به جامعه ی هدف برای مدل دارد و اگر مثلا کل شهر را در نظر بگیریم که در آن تعداد مبتلایان بسیار کمتر از غیر مبتلایان است، پس احتمال پیشین حالت اول مناسب تر است ولی اگر منظور مراجعه کنندگان به بیمارستان باشد که در آن تعداد مبتلایان بسیار بیشتر است حالت دوم مناسب تر است.\n",
    "\n",
    "به صورت کلی احتمال پیشین باید از روی جامعه ی مورد نظر تعیین شود."
   ]
  },
  {
   "cell_type": "code",
   "execution_count": 53,
   "metadata": {},
   "outputs": [
    {
     "data": {
      "text/plain": [
       "4.235969166578099e-07"
      ]
     },
     "execution_count": 53,
     "metadata": {},
     "output_type": "execute_result"
    }
   ],
   "source": []
  },
  {
   "cell_type": "code",
   "execution_count": null,
   "metadata": {},
   "outputs": [],
   "source": []
  }
 ],
 "metadata": {
  "kernelspec": {
   "display_name": "Python 3",
   "language": "python",
   "name": "python3"
  },
  "language_info": {
   "codemirror_mode": {
    "name": "ipython",
    "version": 3
   },
   "file_extension": ".py",
   "mimetype": "text/x-python",
   "name": "python",
   "nbconvert_exporter": "python",
   "pygments_lexer": "ipython3",
   "version": "3.7.4"
  }
 },
 "nbformat": 4,
 "nbformat_minor": 2
}
